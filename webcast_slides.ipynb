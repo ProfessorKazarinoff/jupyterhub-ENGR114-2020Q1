{
 "cells": [
  {
   "cell_type": "markdown",
   "metadata": {
    "slideshow": {
     "slide_type": "slide"
    }
   },
   "source": [
    "# JupyterHub Deployment on Digital Ocean\n",
    "\n",
    "## Peter D. Kazarinoff\n",
    "\n",
    "## Portland Community College\n",
    "\n",
    "## Dec 19, 2019"
   ]
  },
  {
   "cell_type": "markdown",
   "metadata": {
    "slideshow": {
     "slide_type": "slide"
    }
   },
   "source": [
    "# 1. Background and Motivation"
   ]
  },
  {
   "cell_type": "markdown",
   "metadata": {
    "slideshow": {
     "slide_type": "subslide"
    }
   },
   "source": [
    "# Documentation\n",
    "\n",
    "# [https://professorkazarinoff.github.io/jupyterhub-ENGR114-2020Q1](https://professorkazarinoff.github.io/jupyterhub-ENGR114-2020Q1)\n",
    "\n",
    "# GitHub Repo\n",
    "\n",
    "# [https://github.com/ProfessorKazarinoff/jupyterhub-ENGR114-2020Q1](https://github.com/ProfessorKazarinoff/jupyterhub-ENGR114-2020Q1)"
   ]
  },
  {
   "cell_type": "markdown",
   "metadata": {
    "slideshow": {
     "slide_type": "slide"
    }
   },
   "source": [
    "## JupyterHub Deployment on Digital Ocean\n",
    "\n",
    "# 2. Prerequisites"
   ]
  },
  {
   "cell_type": "markdown",
   "metadata": {
    "slideshow": {
     "slide_type": "subslide"
    }
   },
   "source": [
    "# Domain Name\n",
    "\n",
    "# [https://domanins.google.com](https://domanins.google.com)\n",
    "\n",
    "# Google Account with developer options (a regular, not accademic Google Account)\n",
    "\n",
    "# [https://accounts.google.com/signup](https://accounts.google.com/signup)"
   ]
  },
  {
   "cell_type": "markdown",
   "metadata": {
    "slideshow": {
     "slide_type": "subslide"
    }
   },
   "source": [
    "# Digital Ocean Account\n",
    "\n",
    "# [https://cloud.digitalocean.com/registrations/new](https://cloud.digitalocean.com/registrations/new)"
   ]
  },
  {
   "cell_type": "markdown",
   "metadata": {
    "slideshow": {
     "slide_type": "slide"
    }
   },
   "source": [
    "## JupyterHub Deployment on Digital Ocean\n",
    "\n",
    "# Part 3: Set Up and Tools"
   ]
  },
  {
   "cell_type": "markdown",
   "metadata": {
    "slideshow": {
     "slide_type": "subslide"
    }
   },
   "source": [
    "# PuTTY\n",
    "\n",
    "## [putty.org/](https://www.putty.org/)\n",
    "\n",
    "# FileZilla\n",
    "\n",
    "## [https://filezilla-project.org/](filezilla-project.org/)"
   ]
  },
  {
   "cell_type": "markdown",
   "metadata": {
    "slideshow": {
     "slide_type": "subslide"
    }
   },
   "source": [
    "# Anaconda\n",
    "\n",
    "## [https://anaconda.com/distribution](anaconda.com/distribution)"
   ]
  },
  {
   "cell_type": "markdown",
   "metadata": {
    "slideshow": {
     "slide_type": "slide"
    }
   },
   "source": [
    "## JupyterHub Deployment on Digital Ocean\n",
    "\n",
    "# Part 4: SSH Keys"
   ]
  },
  {
   "cell_type": "markdown",
   "metadata": {
    "slideshow": {
     "slide_type": "subslide"
    }
   },
   "source": [
    "# PuTTY Gen"
   ]
  },
  {
   "cell_type": "markdown",
   "metadata": {
    "slideshow": {
     "slide_type": "slide"
    }
   },
   "source": [
    "## JupyterHub Deployment on Digital Ocean\n",
    "\n",
    "# Part 5: Server Setup"
   ]
  },
  {
   "cell_type": "markdown",
   "metadata": {
    "slideshow": {
     "slide_type": "slide"
    }
   },
   "source": [
    "## JupyterHub Deployment on Digital Ocean\n",
    "\n",
    "# Part 6: Install JupyterHub"
   ]
  },
  {
   "cell_type": "markdown",
   "metadata": {
    "slideshow": {
     "slide_type": "slide"
    }
   },
   "source": [
    "## JupyterHub Deployment on Digital Ocean\n",
    "\n",
    "# Part 7: DNS Routing"
   ]
  },
  {
   "cell_type": "markdown",
   "metadata": {
    "slideshow": {
     "slide_type": "slide"
    }
   },
   "source": [
    "## JupyterHub Deployment on Digital Ocean\n",
    "\n",
    "# Part 8: SSL Certificates"
   ]
  },
  {
   "cell_type": "markdown",
   "metadata": {
    "slideshow": {
     "slide_type": "slide"
    }
   },
   "source": [
    "## JupyterHub Deployment on Digital Ocean\n",
    "\n",
    "# Part 9: Cookie Secret and Proxy Auth Token"
   ]
  },
  {
   "cell_type": "markdown",
   "metadata": {
    "slideshow": {
     "slide_type": "slide"
    }
   },
   "source": [
    "## JupyterHub Deployment on Digital Ocean\n",
    "\n",
    "# Part 10: Install Nginx"
   ]
  },
  {
   "cell_type": "markdown",
   "metadata": {
    "slideshow": {
     "slide_type": "slide"
    }
   },
   "source": [
    "## JupyterHub Deployment on Digital Ocean\n",
    "\n",
    "# Part 11: Nginx Configuration"
   ]
  },
  {
   "cell_type": "markdown",
   "metadata": {
    "slideshow": {
     "slide_type": "slide"
    }
   },
   "source": [
    "## JupyterHub Deployment on Digital Ocean\n",
    "\n",
    "# Part 12: JupyterHub Configuration"
   ]
  },
  {
   "cell_type": "markdown",
   "metadata": {
    "slideshow": {
     "slide_type": "slide"
    }
   },
   "source": [
    "## JupyterHub Deployment on Digital Ocean\n",
    "\n",
    "# Part 13: System Service"
   ]
  },
  {
   "cell_type": "markdown",
   "metadata": {
    "slideshow": {
     "slide_type": "slide"
    }
   },
   "source": [
    "## JupyterHub Deployment on Digital Ocean\n",
    "\n",
    "# Part 14: Google OAuth"
   ]
  },
  {
   "cell_type": "markdown",
   "metadata": {
    "slideshow": {
     "slide_type": "slide"
    }
   },
   "source": [
    "# 13. Custom Login Page"
   ]
  },
  {
   "cell_type": "markdown",
   "metadata": {
    "slideshow": {
     "slide_type": "slide"
    }
   },
   "source": [
    "# 14. Cull Idle Servers"
   ]
  },
  {
   "cell_type": "markdown",
   "metadata": {
    "slideshow": {
     "slide_type": "slide"
    }
   },
   "source": [
    "# 15. nbGitpuller Plugin"
   ]
  },
  {
   "cell_type": "markdown",
   "metadata": {
    "slideshow": {
     "slide_type": "slide"
    }
   },
   "source": [
    "# 16. Periodic Maintenance"
   ]
  }
 ],
 "metadata": {
  "celltoolbar": "Slideshow",
  "kernelspec": {
   "display_name": "Python 3",
   "language": "python",
   "name": "python3"
  },
  "language_info": {
   "codemirror_mode": {
    "name": "ipython",
    "version": 3
   },
   "file_extension": ".py",
   "mimetype": "text/x-python",
   "name": "python",
   "nbconvert_exporter": "python",
   "pygments_lexer": "ipython3",
   "version": "3.7.4"
  },
  "rise": {
   "footer": "<h3>&nbsp;&nbsp;&nbsp;&nbsp; Peter Kazarinoff, Portland Community College, 2019<br></h3>",
   "header": "<h3><br>&nbsp;&nbsp;&nbsp;&nbsp; JupyterHub Deployment on Digital Ocean</h3><br>"
  }
 },
 "nbformat": 4,
 "nbformat_minor": 2
}
